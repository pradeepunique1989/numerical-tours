{
 "cells": [
  {
   "cell_type": "markdown",
   "metadata": {
    "deletable": true,
    "editable": true
   },
   "source": [
    "Douglas Rachford Proximal Splitting\n",
    "===================================\n",
    "\n",
    "$\\newcommand{\\dotp}[2]{\\langle #1, #2 \\rangle}$\n",
    "$\\newcommand{\\enscond}[2]{\\lbrace #1, #2 \\rbrace}$\n",
    "$\\newcommand{\\pd}[2]{ \\frac{ \\partial #1}{\\partial #2} }$\n",
    "$\\newcommand{\\umin}[1]{\\underset{#1}{\\min}\\;}$\n",
    "$\\newcommand{\\umax}[1]{\\underset{#1}{\\max}\\;}$\n",
    "$\\newcommand{\\umin}[1]{\\underset{#1}{\\min}\\;}$\n",
    "$\\newcommand{\\uargmin}[1]{\\underset{#1}{argmin}\\;}$\n",
    "$\\newcommand{\\norm}[1]{\\|#1\\|}$\n",
    "$\\newcommand{\\abs}[1]{\\left|#1\\right|}$\n",
    "$\\newcommand{\\choice}[1]{ \\left\\{  \\begin{array}{l} #1 \\end{array} \\right. }$\n",
    "$\\newcommand{\\pa}[1]{\\left(#1\\right)}$\n",
    "$\\newcommand{\\diag}[1]{{diag}\\left( #1 \\right)}$\n",
    "$\\newcommand{\\qandq}{\\quad\\text{and}\\quad}$\n",
    "$\\newcommand{\\qwhereq}{\\quad\\text{where}\\quad}$\n",
    "$\\newcommand{\\qifq}{ \\quad \\text{if} \\quad }$\n",
    "$\\newcommand{\\qarrq}{ \\quad \\Longrightarrow \\quad }$\n",
    "$\\newcommand{\\ZZ}{\\mathbb{Z}}$\n",
    "$\\newcommand{\\CC}{\\mathbb{C}}$\n",
    "$\\newcommand{\\RR}{\\mathbb{R}}$\n",
    "$\\newcommand{\\EE}{\\mathbb{E}}$\n",
    "$\\newcommand{\\Zz}{\\mathcal{Z}}$\n",
    "$\\newcommand{\\Ww}{\\mathcal{W}}$\n",
    "$\\newcommand{\\Vv}{\\mathcal{V}}$\n",
    "$\\newcommand{\\Nn}{\\mathcal{N}}$\n",
    "$\\newcommand{\\NN}{\\mathcal{N}}$\n",
    "$\\newcommand{\\Hh}{\\mathcal{H}}$\n",
    "$\\newcommand{\\Bb}{\\mathcal{B}}$\n",
    "$\\newcommand{\\Ee}{\\mathcal{E}}$\n",
    "$\\newcommand{\\Cc}{\\mathcal{C}}$\n",
    "$\\newcommand{\\Gg}{\\mathcal{G}}$\n",
    "$\\newcommand{\\Ss}{\\mathcal{S}}$\n",
    "$\\newcommand{\\Pp}{\\mathcal{P}}$\n",
    "$\\newcommand{\\Ff}{\\mathcal{F}}$\n",
    "$\\newcommand{\\Xx}{\\mathcal{X}}$\n",
    "$\\newcommand{\\Mm}{\\mathcal{M}}$\n",
    "$\\newcommand{\\Ii}{\\mathcal{I}}$\n",
    "$\\newcommand{\\Dd}{\\mathcal{D}}$\n",
    "$\\newcommand{\\Ll}{\\mathcal{L}}$\n",
    "$\\newcommand{\\Tt}{\\mathcal{T}}$\n",
    "$\\newcommand{\\si}{\\sigma}$\n",
    "$\\newcommand{\\al}{\\alpha}$\n",
    "$\\newcommand{\\la}{\\lambda}$\n",
    "$\\newcommand{\\ga}{\\gamma}$\n",
    "$\\newcommand{\\Ga}{\\Gamma}$\n",
    "$\\newcommand{\\La}{\\Lambda}$\n",
    "$\\newcommand{\\si}{\\sigma}$\n",
    "$\\newcommand{\\Si}{\\Sigma}$\n",
    "$\\newcommand{\\be}{\\beta}$\n",
    "$\\newcommand{\\de}{\\delta}$\n",
    "$\\newcommand{\\De}{\\Delta}$\n",
    "$\\newcommand{\\phi}{\\varphi}$\n",
    "$\\newcommand{\\th}{\\theta}$\n",
    "$\\newcommand{\\om}{\\omega}$\n",
    "$\\newcommand{\\Om}{\\Omega}$\n"
   ]
  },
  {
   "cell_type": "markdown",
   "metadata": {
    "deletable": true,
    "editable": true
   },
   "source": [
    "This numerical tour presents the Douglas-Rachford (DR) algorithm to\n",
    "minimize the sum of two simple functions. It shows an\n",
    "application to\n",
    "reconstruction of exactly sparse signal from noiseless measurement using\n",
    "$\\ell^1$ minimization."
   ]
  },
  {
   "cell_type": "code",
   "execution_count": 1,
   "metadata": {
    "collapsed": false,
    "deletable": true,
    "editable": true
   },
   "outputs": [],
   "source": [
    "using PyPlot"
   ]
  },
  {
   "cell_type": "markdown",
   "metadata": {
    "deletable": true,
    "editable": true
   },
   "source": [
    "Douglas-Rachford Algorithm\n",
    "--------------------------\n",
    "The Douglas-Rachford (DR) algorithm is an iterative scheme to minimize\n",
    "functionals of the form\n",
    "$$ \\umin{x} f(x) + g(x) $$\n",
    "where $f$ and $g$ are convex functions, of which one is able to\n",
    "compute the proximity operators.\n",
    "\n",
    "This algorithm was introduced in\n",
    "\n",
    "P. L. Lions and B. Mercier\n",
    "\"Splitting Algorithms for the Sum of Two Nonlinear Operators,\"\n",
    "_SIAM Journal on Numerical Analysis_\n",
    "vol. 16, no. 6, 1979,\n",
    "\n",
    "\n",
    "as a generalization of an algorithm introduced by Douglas and Rachford in\n",
    "the case of quadratic minimization (which corresponds to solving\n",
    "a positive definite linear system).\n",
    "\n",
    "\n",
    "To learn more about this algorithm, you can read:\n",
    "\n",
    "\n",
    "Patrick L. Combettes and Jean-Christophe Pesquet,\n",
    "\"Proximal Splitting Methods in Signal Processing,\"\n",
    "in: _Fixed-Point Algorithms for Inverse\n",
    "Problems in Science and Engineering_, New York: Springer-Verlag, 2010.\n",
    "\n",
    "\n",
    "\n",
    "The Douglas-Rachford algorithm takes an arbitrary element $s^{(0)}$, a parameter $\\ga>0$, a relaxation parameter $0<\\rho<2$ and iterates, for $k=1,2,\\ldots$\n",
    "$$\n",
    "\\left|\\begin{array}{l}\n",
    "x^{(k)} = \\mathrm{prox}_{\\gamma f} (s^{(k-1)} )\\\\\n",
    "s^{(k)} = s^{(k-1)}+\\rho\\big(\\text{prox}_{\\ga g}( 2x^{(k)}-s^{(k-1)})-x^{(k)}\\big).\n",
    "\\end{array}\\right.\n",
    "$$\n",
    "\n",
    "It is of course possible to inter-change the roles of $f$ and $g$,\n",
    "which defines a different algorithm.\n",
    "\n",
    "The iterates $x^{(k)}$ converge to a solution $x^\\star$ of the problem, i.e. a minimizer of $f+g$.\n",
    "\n",
    "Compressed Sensing Acquisition\n",
    "------------------------------\n",
    "Compressed sensing acquisition corresponds to a random projection\n",
    "$y=Ax^\\sharp$ of a signal $x^\\sharp$ on a\n",
    "few linear vectors (the rows of the matrix $A$). For the recovery of $x^\\sharp$ to be possible, this vector is supposed\n",
    "to be sparse in some basis. Here, we suppose $x^\\sharp$ itself is sparse."
   ]
  },
  {
   "cell_type": "markdown",
   "metadata": {
    "deletable": true,
    "editable": true
   },
   "source": [
    "We initialize the random number generator for reproducibility."
   ]
  },
  {
   "cell_type": "code",
   "execution_count": 2,
   "metadata": {
    "collapsed": false,
    "deletable": true,
    "editable": true
   },
   "outputs": [],
   "source": [
    "srand(0);"
   ]
  },
  {
   "cell_type": "markdown",
   "metadata": {
    "deletable": true,
    "editable": true
   },
   "source": [
    "Dimension of the problem."
   ]
  },
  {
   "cell_type": "code",
   "execution_count": 3,
   "metadata": {
    "collapsed": false,
    "deletable": true,
    "editable": true
   },
   "outputs": [],
   "source": [
    "N = 400;"
   ]
  },
  {
   "cell_type": "markdown",
   "metadata": {
    "deletable": true,
    "editable": true
   },
   "source": [
    "Number of measurements."
   ]
  },
  {
   "cell_type": "code",
   "execution_count": 4,
   "metadata": {
    "collapsed": false,
    "deletable": true,
    "editable": true
   },
   "outputs": [],
   "source": [
    "P = Int(round(N/4));"
   ]
  },
  {
   "cell_type": "markdown",
   "metadata": {
    "deletable": true,
    "editable": true
   },
   "source": [
    "We create a random Gaussian measurement matrix $A$."
   ]
  },
  {
   "cell_type": "code",
   "execution_count": 5,
   "metadata": {
    "collapsed": false,
    "deletable": true,
    "editable": true
   },
   "outputs": [],
   "source": [
    "A = randn(P, N) ./ sqrt(P);"
   ]
  },
  {
   "cell_type": "markdown",
   "metadata": {
    "deletable": true,
    "editable": true
   },
   "source": [
    "Sparsity of the signal."
   ]
  },
  {
   "cell_type": "code",
   "execution_count": 6,
   "metadata": {
    "collapsed": false,
    "deletable": true,
    "editable": true
   },
   "outputs": [],
   "source": [
    "S = 17;"
   ]
  },
  {
   "cell_type": "markdown",
   "metadata": {
    "deletable": true,
    "editable": true
   },
   "source": [
    "We begin by generating a $S$-sparse signal $x^\\sharp$ with $S$ randomized values.\n",
    "Since the measurement matrix is random, one does not care about the sign\n",
    "of the nonzero elements, so we set values equal to one."
   ]
  },
  {
   "cell_type": "code",
   "execution_count": 7,
   "metadata": {
    "collapsed": false,
    "deletable": true,
    "editable": true
   },
   "outputs": [],
   "source": [
    "sel = randperm(N)\n",
    "sel = sel[1 : S]   # indices of the nonzero elements of xsharp\n",
    "xsharp = zeros(N)\n",
    "xsharp[sel] = 1;"
   ]
  },
  {
   "cell_type": "markdown",
   "metadata": {
    "deletable": true,
    "editable": true
   },
   "source": [
    "We perform random measurements $y=Ax^\\sharp$ without noise."
   ]
  },
  {
   "cell_type": "code",
   "execution_count": 8,
   "metadata": {
    "collapsed": false,
    "deletable": true,
    "editable": true
   },
   "outputs": [],
   "source": [
    "y = A*xsharp;"
   ]
  },
  {
   "cell_type": "markdown",
   "metadata": {
    "deletable": true,
    "editable": true
   },
   "source": [
    "Compressed Sensing Recovery with the Douglas-Rachford algorithm\n",
    "------------------------------------\n",
    "Compressed sensing recovery corresponds\n",
    "to solving the inverse problem $y=A x^\\sharp$, which is ill posed because\n",
    "$x^\\sharp$ is\n",
    "higher dimensional than $y$.\n",
    "\n",
    "\n",
    "The reconstruction can be performed by $\\ell^1$ minimization,\n",
    "which regularizes the problem by exploiting the prior knowledge that the solution is sparse.\n",
    "$$ x^\\star \\in \\arg\\min_x \\norm{x}_1 \\quad\\mbox{s.t.}\\quad Ax=y$$\n",
    "where the $\\ell^1$ norm is defined as\n",
    "$$ \\norm{x}_1 = \\sum_{n=1}^N \\abs{x_n}. $$\n",
    "\n",
    "\n",
    "This is the minimization of a non-smooth function under affine\n",
    "constraints. This can be shown to be equivalent to a linear programming\n",
    "problem, for wich various algorithms can be used (simplex, interior\n",
    "points). We propose here to use the Douglas-Rachford algorithm.\n",
    "\n",
    "\n",
    "It is possible to recast this problem as the minimization of $f+g$\n",
    "where $g(x) = \\norm{x}_1$ and $f(x)=\\iota_{\\Omega}$ where $\\Omega =\n",
    "\\enscond{x}{Ax=y}$ is an affine space, and $\\iota_\\Omega$ is the indicator\n",
    "function\n",
    "$$ \\iota_\\Omega(x) = \\choice{ 0 \\qifq x \\in \\Omega, \\\\ +\\infty \\qifq x \\notin \\Omega. } $$\n",
    "\n",
    "\n",
    "The proximal operator of the $\\ell^1$ norm is soft thresholding:\n",
    "$$ \\text{prox}_{\\gamma \\norm{\\cdot}_1}(x)_n = \\max\\pa{ 0, 1-\\frac{\\ga}{\\abs{x_n}} } x_n. $$"
   ]
  },
  {
   "cell_type": "code",
   "execution_count": 9,
   "metadata": {
    "collapsed": false,
    "deletable": true,
    "editable": true
   },
   "outputs": [],
   "source": [
    "prox_gamma_g = (x, gamma) -> x - x./max(abs(x)./gamma, 1);"
   ]
  },
  {
   "cell_type": "markdown",
   "metadata": {
    "deletable": true,
    "editable": true
   },
   "source": [
    "Display the 1-D curve of the thresholding."
   ]
  },
  {
   "cell_type": "code",
   "execution_count": 10,
   "metadata": {
    "collapsed": false,
    "deletable": true,
    "editable": true
   },
   "outputs": [
    {
     "data": {
      "image/png": "[encoded data removed]",
      "text/plain": [
       "PyPlot.Figure(PyObject <matplotlib.figure.Figure object at 0x3165fecd0>)"
      ]
     },
     "metadata": {},
     "output_type": "display_data"
    },
    {
     "data": {
      "text/plain": [
       "(-1.1,1.1,-0.7699999999999999,0.7699999999999999)"
      ]
     },
     "execution_count": 10,
     "metadata": {},
     "output_type": "execute_result"
    }
   ],
   "source": [
    "figsize = (9, 6)\n",
    "t = -1 : 0.001 : 1\n",
    "plot(t, prox_gamma_g(t, 0.3))\n",
    "axis(\"equal\")"
   ]
  },
  {
   "cell_type": "markdown",
   "metadata": {
    "deletable": true,
    "editable": true
   },
   "source": [
    "The proximity operator of $\\gamma$ times the indicator function of $\\Omega$ is projection onto $\\Omega$ \n",
    " and does not depends on $\\gamma$.\n",
    "$$ \\mathrm{prox}_{\\gamma f}(x)=\\mathrm{prox}_{\\iota_\\Omega}(x)=P_\\Omega(x)  = x + A^* (A A^*)^{-1} (y-Ax). $$"
   ]
  },
  {
   "cell_type": "code",
   "execution_count": 11,
   "metadata": {
    "collapsed": false,
    "deletable": true,
    "editable": true
   },
   "outputs": [],
   "source": [
    "pA = pinv(A) # pseudo-inverse. Equivalent to pA = A.T.dot(inv(A.dot(A.T)))\n",
    "prox_f = (x, y) -> x + pA*(y - A*x);"
   ]
  },
  {
   "cell_type": "markdown",
   "metadata": {
    "deletable": true,
    "editable": true
   },
   "source": [
    "We set the values of $\\gamma$ and $\\rho$.\n",
    "Try different values to speed up the convergence."
   ]
  },
  {
   "cell_type": "code",
   "execution_count": 12,
   "metadata": {
    "collapsed": false,
    "deletable": true,
    "editable": true
   },
   "outputs": [
    {
     "data": {
      "text/plain": [
       "1"
      ]
     },
     "execution_count": 12,
     "metadata": {},
     "output_type": "execute_result"
    }
   ],
   "source": [
    "gamma = 0.1 # try 1, 10, 0.1\n",
    "rho = 1     # try 1, 1.5, 1.9"
   ]
  },
  {
   "cell_type": "markdown",
   "metadata": {
    "deletable": true,
    "editable": true
   },
   "source": [
    "Number of iterations."
   ]
  },
  {
   "cell_type": "code",
   "execution_count": 13,
   "metadata": {
    "collapsed": false,
    "deletable": true,
    "editable": true
   },
   "outputs": [],
   "source": [
    "nbiter = 700;"
   ]
  },
  {
   "cell_type": "markdown",
   "metadata": {
    "deletable": true,
    "editable": true
   },
   "source": [
    "<h3>\n",
    " <font color='magenta'>\n",
    "__Exercise: Implement nbiter iterations of the Douglas-Rachford algorithm.\n",
    "Keep track of the evolution of the $\\ell^1$ norm.__</font></h3>"
   ]
  },
  {
   "cell_type": "code",
   "execution_count": 14,
   "metadata": {
    "collapsed": false,
    "deletable": true,
    "editable": true
   },
   "outputs": [],
   "source": [
    "s = zeros(N)\n",
    "En_array = zeros(nbiter)\n",
    "x = prox_f(s,y)\n",
    "s += rho.*(prox_gamma_g(2.*x - s, gamma) - x)\n",
    "En_array[1] = maximum(sum(abs(x), 1))\n",
    "for iter in 2 : nbiter  # iter goes from 1 to nbiter\n",
    "    x = prox_f(s,y)\n",
    "    s += rho.*(prox_gamma_g(2.*x - s, gamma) - x)\n",
    "    En_array[iter] = maximum(sum(abs(x), 1))\n",
    "end\n",
    "x_restored = x;"
   ]
  },
  {
   "cell_type": "markdown",
   "metadata": {
    "deletable": true,
    "editable": true
   },
   "source": [
    "\n",
    "We display the original and the recovered signals."
   ]
  },
  {
   "cell_type": "code",
   "execution_count": 15,
   "metadata": {
    "collapsed": false,
    "deletable": true,
    "editable": true
   },
   "outputs": [
    {
     "data": {
      "image/png": "[encoded data removed]",
      "text/plain": [
       "PyPlot.Figure(PyObject <matplotlib.figure.Figure object at 0x320be1a50>)"
      ]
     },
     "metadata": {},
     "output_type": "display_data"
    },
    {
     "data": {
      "text/plain": [
       "PyObject <matplotlib.text.Text object at 0x320e22410>"
      ]
     },
     "execution_count": 15,
     "metadata": {},
     "output_type": "execute_result"
    }
   ],
   "source": [
    "fig, (subfig1, subfig2) = subplots(1, 2, figsize = (16, 7)) # one figure with two horizontal subfigures\n",
    "subfig1[:stem](xsharp)\n",
    "subfig1[:set_ylim](0, 1.1)\n",
    "subfig2[:stem](x_restored)\n",
    "subfig2[:set_ylim](0, 1.1)\n",
    "subfig1[:set_title](L\"$x^\\sharp$\")\n",
    "subfig2[:set_title](L\"$x_\\mathrm{restored}$\")"
   ]
  },
  {
   "cell_type": "markdown",
   "metadata": {
    "deletable": true,
    "editable": true
   },
   "source": [
    "Since the original signal is highly sparse, it is perfectly recovered.\n",
    "\n",
    "We display the convergence speed of the $\\ell^1$ norm on the first half iterations, in log\n",
    "scale."
   ]
  },
  {
   "cell_type": "code",
   "execution_count": 16,
   "metadata": {
    "collapsed": false,
    "deletable": true,
    "editable": true
   },
   "outputs": [
    {
     "data": {
      "image/png": "[encoded data removed]",
      "text/plain": [
       "PyPlot.Figure(PyObject <matplotlib.figure.Figure object at 0x320bd4750>)"
      ]
     },
     "metadata": {},
     "output_type": "display_data"
    },
    {
     "data": {
      "text/plain": [
       "1-element Array{Any,1}:\n",
       " PyObject <matplotlib.lines.Line2D object at 0x3259ea190>"
      ]
     },
     "execution_count": 16,
     "metadata": {},
     "output_type": "execute_result"
    }
   ],
   "source": [
    "plot(log10(En_array - minimum(En_array)))"
   ]
  },
  {
   "cell_type": "markdown",
   "metadata": {
    "deletable": true,
    "editable": true
   },
   "source": [
    "The convergence is linear in practice. Convergence up to machine precision (1e-14 here) is achieved after a few hundreds of iterations."
   ]
  },
  {
   "cell_type": "markdown",
   "metadata": {
    "deletable": true,
    "editable": true
   },
   "source": [
    "<h3>\n",
    " <font color='magenta'>\n",
    "__Exercise: test the recovery of a less sparse signal.\n",
    "What do you observe?__</font></h3>"
   ]
  },
  {
   "cell_type": "code",
   "execution_count": 18,
   "metadata": {
    "collapsed": false,
    "deletable": true,
    "editable": true
   },
   "outputs": [],
   "source": [
    "S = 31\n",
    "srand(0)\n",
    "sel = randperm(N)\n",
    "sel = sel[1 : S]   # indices of the nonzero elements of xsharp\n",
    "xsharp = zeros(N)\n",
    "xsharp[sel] = 1\n",
    "\n",
    "y = A*xsharp\n",
    "\n",
    "gamma = 1\n",
    "rho = 1   \n",
    "nbiter = 1000\n",
    "s = zeros(N)\n",
    "En_array = zeros(nbiter)\n",
    "x = prox_f(s,y)\n",
    "s += rho.*(prox_gamma_g(2*x - s, gamma) - x)\n",
    "En_array[1] = norm(x, 1)\n",
    "for iter in 2 : nbiter\n",
    "    x = prox_f(s,y)\n",
    "    s += rho.*(prox_gamma_g(2*x - s, gamma) - x)\n",
    "    En_array[iter] = norm(x, 1)\n",
    "end\n",
    "x_restored = x;"
   ]
  },
  {
   "cell_type": "code",
   "execution_count": 19,
   "metadata": {
    "collapsed": false,
    "deletable": true,
    "editable": true
   },
   "outputs": [
    {
     "data": {
      "image/png": "[encoded data removed]",
      "text/plain": [
       "PyPlot.Figure(PyObject <matplotlib.figure.Figure object at 0x320cc5cd0>)"
      ]
     },
     "metadata": {},
     "output_type": "display_data"
    },
    {
     "data": {
      "text/plain": [
       "PyObject <matplotlib.text.Text object at 0x325eb7690>"
      ]
     },
     "execution_count": 19,
     "metadata": {},
     "output_type": "execute_result"
    }
   ],
   "source": [
    "fig, (subfig1, subfig2) = subplots(1, 2, figsize = (16, 7)) # one figure with two horizontal subfigures\n",
    "subfig1[:stem](xsharp)\n",
    "subfig1[:set_ylim](0, 1.1)\n",
    "subfig2[:stem](x_restored)\n",
    "subfig1[:set_title](L\"$x^\\sharp$\")\n",
    "subfig2[:set_title](L\"$x_\\mathrm{restored}$\")"
   ]
  },
  {
   "cell_type": "code",
   "execution_count": 20,
   "metadata": {
    "collapsed": false,
    "deletable": true,
    "editable": true
   },
   "outputs": [
    {
     "data": {
      "image/png": "[encoded data removed]",
      "text/plain": [
       "PyPlot.Figure(PyObject <matplotlib.figure.Figure object at 0x325d87c50>)"
      ]
     },
     "metadata": {},
     "output_type": "display_data"
    },
    {
     "data": {
      "text/plain": [
       "1-element Array{Any,1}:\n",
       " PyObject <matplotlib.lines.Line2D object at 0x32702fa90>"
      ]
     },
     "execution_count": 20,
     "metadata": {},
     "output_type": "execute_result"
    }
   ],
   "source": [
    "plot(log10(En_array - minimum(En_array)))"
   ]
  },
  {
   "cell_type": "markdown",
   "metadata": {
    "deletable": true,
    "editable": true
   },
   "source": [
    "Convergence is much slower in this setting."
   ]
  },
  {
   "cell_type": "raw",
   "metadata": {
    "collapsed": true,
    "deletable": true,
    "editable": true
   },
   "source": [
    "<script>\n",
    "  $(document).ready(function(){\n",
    "      $('div.prompt').hide();\n",
    "  });\n",
    "</script>"
   ]
  }
 ],
 "metadata": {
  "anaconda-cloud": {},
  "kernelspec": {
   "display_name": "Julia 0.5.0",
   "language": "julia",
   "name": "julia-0.5"
  },
  "language_info": {
   "file_extension": ".jl",
   "mimetype": "application/julia",
   "name": "julia",
   "version": "0.5.0"
  }
 },
 "nbformat": 4,
 "nbformat_minor": 0
}
