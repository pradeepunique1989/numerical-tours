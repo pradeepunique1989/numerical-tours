{
 "cells": [
  {
   "cell_type": "markdown",
   "metadata": {},
   "source": [
    "Entropic Coding and Compression\n",
    "===============================\n",
    "\n",
    "*Important:* Please read the [installation page](http://gpeyre.github.io/numerical-tours/installation_python/) for details about how to install the toolboxes.\n",
    "$\\newcommand{\\dotp}[2]{\\langle #1, #2 \\rangle}$\n",
    "$\\newcommand{\\enscond}[2]{\\lbrace #1, #2 \\rbrace}$\n",
    "$\\newcommand{\\pd}[2]{ \\frac{ \\partial #1}{\\partial #2} }$\n",
    "$\\newcommand{\\umin}[1]{\\underset{#1}{\\min}\\;}$\n",
    "$\\newcommand{\\umax}[1]{\\underset{#1}{\\max}\\;}$\n",
    "$\\newcommand{\\umin}[1]{\\underset{#1}{\\min}\\;}$\n",
    "$\\newcommand{\\uargmin}[1]{\\underset{#1}{argmin}\\;}$\n",
    "$\\newcommand{\\norm}[1]{\\|#1\\|}$\n",
    "$\\newcommand{\\abs}[1]{\\left|#1\\right|}$\n",
    "$\\newcommand{\\choice}[1]{ \\left\\{  \\begin{array}{l} #1 \\end{array} \\right. }$\n",
    "$\\newcommand{\\pa}[1]{\\left(#1\\right)}$\n",
    "$\\newcommand{\\diag}[1]{{diag}\\left( #1 \\right)}$\n",
    "$\\newcommand{\\qandq}{\\quad\\text{and}\\quad}$\n",
    "$\\newcommand{\\qwhereq}{\\quad\\text{where}\\quad}$\n",
    "$\\newcommand{\\qifq}{ \\quad \\text{if} \\quad }$\n",
    "$\\newcommand{\\qarrq}{ \\quad \\Longrightarrow \\quad }$\n",
    "$\\newcommand{\\ZZ}{\\mathbb{Z}}$\n",
    "$\\newcommand{\\CC}{\\mathbb{C}}$\n",
    "$\\newcommand{\\RR}{\\mathbb{R}}$\n",
    "$\\newcommand{\\EE}{\\mathbb{E}}$\n",
    "$\\newcommand{\\Zz}{\\mathcal{Z}}$\n",
    "$\\newcommand{\\Ww}{\\mathcal{W}}$\n",
    "$\\newcommand{\\Vv}{\\mathcal{V}}$\n",
    "$\\newcommand{\\Nn}{\\mathcal{N}}$\n",
    "$\\newcommand{\\NN}{\\mathcal{N}}$\n",
    "$\\newcommand{\\Hh}{\\mathcal{H}}$\n",
    "$\\newcommand{\\Bb}{\\mathcal{B}}$\n",
    "$\\newcommand{\\Ee}{\\mathcal{E}}$\n",
    "$\\newcommand{\\Cc}{\\mathcal{C}}$\n",
    "$\\newcommand{\\Gg}{\\mathcal{G}}$\n",
    "$\\newcommand{\\Ss}{\\mathcal{S}}$\n",
    "$\\newcommand{\\Pp}{\\mathcal{P}}$\n",
    "$\\newcommand{\\Ff}{\\mathcal{F}}$\n",
    "$\\newcommand{\\Xx}{\\mathcal{X}}$\n",
    "$\\newcommand{\\Mm}{\\mathcal{M}}$\n",
    "$\\newcommand{\\Ii}{\\mathcal{I}}$\n",
    "$\\newcommand{\\Dd}{\\mathcal{D}}$\n",
    "$\\newcommand{\\Ll}{\\mathcal{L}}$\n",
    "$\\newcommand{\\Tt}{\\mathcal{T}}$\n",
    "$\\newcommand{\\si}{\\sigma}$\n",
    "$\\newcommand{\\al}{\\alpha}$\n",
    "$\\newcommand{\\la}{\\lambda}$\n",
    "$\\newcommand{\\ga}{\\gamma}$\n",
    "$\\newcommand{\\Ga}{\\Gamma}$\n",
    "$\\newcommand{\\La}{\\Lambda}$\n",
    "$\\newcommand{\\si}{\\sigma}$\n",
    "$\\newcommand{\\Si}{\\Sigma}$\n",
    "$\\newcommand{\\be}{\\beta}$\n",
    "$\\newcommand{\\de}{\\delta}$\n",
    "$\\newcommand{\\De}{\\Delta}$\n",
    "$\\newcommand{\\phi}{\\varphi}$\n",
    "$\\newcommand{\\th}{\\theta}$\n",
    "$\\newcommand{\\om}{\\omega}$\n",
    "$\\newcommand{\\Om}{\\Omega}$"
   ]
  },
  {
   "cell_type": "markdown",
   "metadata": {},
   "source": [
    "This numerical tour studies source coding using entropic coders (Huffman and arithmetic)."
   ]
  },
  {
   "cell_type": "code",
   "execution_count": 1,
   "metadata": {},
   "outputs": [],
   "source": [
    "using PyPlot\n",
    "using NtToolBox"
   ]
  },
  {
   "cell_type": "markdown",
   "metadata": {},
   "source": [
    "Source Coding and Entropy\n",
    "-------------------------\n",
    "Entropic coding converts a vector $x$ of integers into a binary stream\n",
    "$y$. Entropic coding exploits the\n",
    "redundancies in the statistical distribution of the entries of $x$ to\n",
    "reduce as much as possible the size of $y$. The lower bound for the\n",
    "number of bits $p$ of $y$ is the Shannon bound :\n",
    "\n",
    "$$p=-\\sum_ih(i)\\log_2(h(i))$$\n",
    "\n",
    "where $h(i)$ is the probability of apparition of symbol $i$ in $x$.\n",
    "\n",
    "Fist we generate a simple binary signal $x$ so that $0$ has a probability $p$\n",
    "to appear in $x$.\n",
    "\n",
    "Probability of 0."
   ]
  },
  {
   "cell_type": "code",
   "execution_count": 2,
   "metadata": {
    "collapsed": true
   },
   "outputs": [],
   "source": [
    "p = 0.1;"
   ]
  },
  {
   "cell_type": "markdown",
   "metadata": {},
   "source": [
    "Size.\n"
   ]
  },
  {
   "cell_type": "code",
   "execution_count": 3,
   "metadata": {
    "collapsed": true
   },
   "outputs": [],
   "source": [
    "n = 512;"
   ]
  },
  {
   "cell_type": "markdown",
   "metadata": {},
   "source": [
    "Signal, should be with token 1,2."
   ]
  },
  {
   "cell_type": "code",
   "execution_count": 4,
   "metadata": {
    "collapsed": true
   },
   "outputs": [],
   "source": [
    "x = (rand(n) .> p) + 1;"
   ]
  },
  {
   "cell_type": "markdown",
   "metadata": {},
   "source": [
    "One can check the probabilities by computing the empirical histogram."
   ]
  },
  {
   "cell_type": "code",
   "execution_count": 5,
   "metadata": {},
   "outputs": [
    {
     "name": "stdout",
     "output_type": "stream",
     "text": [
      "Empirical p = 0.109375"
     ]
    }
   ],
   "source": [
    "h = [sum(x .== 1); sum(x .== 2)]\n",
    "h = h/sum(h)\n",
    "\n",
    "print(\"Empirical p = $(h[1])\")"
   ]
  },
  {
   "cell_type": "markdown",
   "metadata": {},
   "source": [
    "We can compute the entropy of the distribution represented as a vector $h$ of proability that should sum to 1.\n",
    "We take a max to avoid problems with null probabilties."
   ]
  },
  {
   "cell_type": "code",
   "execution_count": 6,
   "metadata": {},
   "outputs": [
    {
     "name": "stdout",
     "output_type": "stream",
     "text": [
      "Entropy = 0.4980278865344765"
     ]
    }
   ],
   "source": [
    "e = - sum(h.*log2([max(e,1e-20) for e in h]))\n",
    "print(\"Entropy = $e\")"
   ]
  },
  {
   "cell_type": "markdown",
   "metadata": {},
   "source": [
    "Huffman Coding\n",
    "--------------\n",
    "A Hufman code $C$ associates to each symbol $i$ in $\\{1,...,m\\}$ a binary code $C_i$\n",
    "whose length is as close as possible to the optimal bound\n",
    "$-\\log_2\\left(h(i)\\right)$, where $h(i)$ is the probability of apparition of the\n",
    "symbol $i$.\n",
    "\n",
    "We select a set of proabilities."
   ]
  },
  {
   "cell_type": "code",
   "execution_count": 7,
   "metadata": {
    "collapsed": true
   },
   "outputs": [],
   "source": [
    "h = [.1, .15, .4, .15, .2];"
   ]
  },
  {
   "cell_type": "markdown",
   "metadata": {},
   "source": [
    "The tree $T$ contains the codes and is generated by an iterative algorithm.\n",
    "The initial \"tree\" is a collection of empty trees, pointing to the symbols numbers."
   ]
  },
  {
   "cell_type": "code",
   "execution_count": 8,
   "metadata": {
    "collapsed": true
   },
   "outputs": [],
   "source": [
    "m = length(h)\n",
    "T=Array{Any,1}(zeros(m)); # create an empty tree"
   ]
  },
  {
   "cell_type": "markdown",
   "metadata": {},
   "source": [
    "We build iteratively the Huffman tree\n",
    "by grouping together the two erees that have the smallest probabilities.\n",
    "The merged tree has a probability which is the sum of the two selected\n",
    "probabilities.\n",
    "\n",
    "Initial probability."
   ]
  },
  {
   "cell_type": "code",
   "execution_count": 9,
   "metadata": {
    "collapsed": true
   },
   "outputs": [],
   "source": [
    "#we use the symbols i = 0,1,2,3,4 (as strings) with the associated probabilities h(i)\n",
    "\n",
    "for i in 1:m\n",
    "    T[i] = (h[i],string(i))\n",
    "end"
   ]
  },
  {
   "cell_type": "markdown",
   "metadata": {},
   "source": [
    "Iterative merging of the leading probabilities."
   ]
  },
  {
   "cell_type": "code",
   "execution_count": 10,
   "metadata": {
    "collapsed": true,
    "scrolled": true
   },
   "outputs": [],
   "source": [
    "while length(T) > 1\n",
    "\n",
    "    sort!(T) #sort according to the first values of the tuples (the probabilities)\n",
    "    t = tuple(T[1:2]...)\n",
    "    q = T[1][1] + T[2][1]\n",
    "    T = [T[3:end]; [(q,t)]]\n",
    "end"
   ]
  },
  {
   "cell_type": "markdown",
   "metadata": {},
   "source": [
    "We trim the computed tree by removing the probabilities."
   ]
  },
  {
   "cell_type": "code",
   "execution_count": 11,
   "metadata": {
    "collapsed": true
   },
   "outputs": [],
   "source": [
    "function trim(T)\n",
    "    T0 = T[2]\n",
    "    if typeof(T0) == String\n",
    "        return T0\n",
    "    else\n",
    "        return (trim(T0[1]),trim(T0[2]))\n",
    "    end\n",
    "end\n",
    "T = trim(T[1]);"
   ]
  },
  {
   "cell_type": "markdown",
   "metadata": {},
   "source": [
    "We display the computed tree."
   ]
  },
  {
   "cell_type": "code",
   "execution_count": 12,
   "metadata": {},
   "outputs": [
    {
     "data": {
      "image/png": "[encoded data removed]",
      "text/plain": [
       "PyPlot.Figure(PyObject <matplotlib.figure.Figure object at 0x315723b90>)"
      ]
     },
     "metadata": {},
     "output_type": "display_data"
    }
   ],
   "source": [
    "plot_hufftree(T);"
   ]
  },
  {
   "cell_type": "markdown",
   "metadata": {},
   "source": [
    "Once the tree $T$ is computed, one can compute the code $C_{i}$\n",
    "associated to each symbol $i$. This requires to perform a deep first\n",
    "search in the tree and stop at each node."
   ]
  },
  {
   "cell_type": "code",
   "execution_count": 13,
   "metadata": {
    "collapsed": true
   },
   "outputs": [],
   "source": [
    "codes = Dict()\n",
    "\n",
    "function huffman_gencode(T,codes,c)\n",
    "    if typeof(T) == String #test if T is a leaf\n",
    "        codes[T] = c\n",
    "    else\n",
    "        huffman_gencode(T[1],codes, string(c, \"0\"))\n",
    "        huffman_gencode(T[2],codes, string(c, \"1\"))\n",
    "    end\n",
    "end\n",
    "\n",
    "huffman_gencode(T,codes,\"\") ;"
   ]
  },
  {
   "cell_type": "markdown",
   "metadata": {},
   "source": [
    "Display the code."
   ]
  },
  {
   "cell_type": "code",
   "execution_count": 14,
   "metadata": {},
   "outputs": [
    {
     "name": "stdout",
     "output_type": "stream",
     "text": [
      "Code of token 4: 110\n",
      "Code of token 1: 100\n",
      "Code of token 5: 111\n",
      "Code of token 2: 101\n",
      "Code of token 3: 0\n"
     ]
    }
   ],
   "source": [
    "for e in keys(codes)\n",
    "    println(string(\"Code of token \", e, \": \", codes[e]))\n",
    "end"
   ]
  },
  {
   "cell_type": "markdown",
   "metadata": {},
   "source": [
    "We draw a vector $x$ according to the distribution $h$.\n",
    "\n",
    "Size of the signal."
   ]
  },
  {
   "cell_type": "code",
   "execution_count": 15,
   "metadata": {
    "collapsed": true
   },
   "outputs": [],
   "source": [
    "n = 1024;"
   ]
  },
  {
   "cell_type": "markdown",
   "metadata": {},
   "source": [
    "Randomization."
   ]
  },
  {
   "cell_type": "code",
   "execution_count": 16,
   "metadata": {},
   "outputs": [],
   "source": [
    "x = rand_discr(h, m=n);"
   ]
  },
  {
   "cell_type": "markdown",
   "metadata": {},
   "source": [
    "__Exercise 1__\n",
    "\n",
    "Implement the coding of the vector $x$ to obtain a binary vector $y$, which corresponds to replacing each sybmol $x(i)$ by the code $C_{x(i)}$."
   ]
  },
  {
   "cell_type": "code",
   "execution_count": 17,
   "metadata": {
    "collapsed": true
   },
   "outputs": [],
   "source": [
    "include(\"NtSolutions/coding_2_entropic/exo1.jl\")"
   ]
  },
  {
   "cell_type": "code",
   "execution_count": 18,
   "metadata": {
    "collapsed": true
   },
   "outputs": [],
   "source": [
    "## Insert your code here."
   ]
  },
  {
   "cell_type": "markdown",
   "metadata": {},
   "source": [
    "Compare the length of the code with the entropy bound."
   ]
  },
  {
   "cell_type": "code",
   "execution_count": 19,
   "metadata": {},
   "outputs": [
    {
     "name": "stdout",
     "output_type": "stream",
     "text": [
      "Entropy bound = 2197.9538889431196\n",
      "Huffman code  = 2212\n"
     ]
    }
   ],
   "source": [
    "e = - sum(h.*log2([max(e,1e-20) for e in h]))\n",
    "println(\"Entropy bound = $(n*e)\")\n",
    "println(\"Huffman code  = $(length(y))\") "
   ]
  },
  {
   "cell_type": "markdown",
   "metadata": {},
   "source": [
    "Decoding is more complicated, since it requires to iteratively parse the tree $T$."
   ]
  },
  {
   "cell_type": "markdown",
   "metadata": {},
   "source": [
    "Initial empty decoded stream."
   ]
  },
  {
   "cell_type": "code",
   "execution_count": 20,
   "metadata": {
    "collapsed": true
   },
   "outputs": [],
   "source": [
    "x1 = [];"
   ]
  },
  {
   "cell_type": "markdown",
   "metadata": {},
   "source": [
    "Perform decoding."
   ]
  },
  {
   "cell_type": "code",
   "execution_count": 21,
   "metadata": {
    "collapsed": true
   },
   "outputs": [],
   "source": [
    "T0 = T\n",
    "for e in y\n",
    "    if e == '0'\n",
    "            T0 = T0[1]\n",
    "    else\n",
    "            T0 = T0[2]\n",
    "    end\n",
    "    if typeof(T0) == String\n",
    "        append!(x1,T0)\n",
    "        T0 = T\n",
    "    end\n",
    "end\n",
    "    "
   ]
  },
  {
   "cell_type": "markdown",
   "metadata": {},
   "source": [
    "We test if the decoding is correct."
   ]
  },
  {
   "cell_type": "code",
   "execution_count": 22,
   "metadata": {},
   "outputs": [
    {
     "name": "stdout",
     "output_type": "stream",
     "text": [
      "Error (should be zero) : 0.0"
     ]
    }
   ],
   "source": [
    "err = norm(x-map(x->parse(Int, x), x1))\n",
    "print(\"Error (should be zero) : $err\")"
   ]
  },
  {
   "cell_type": "markdown",
   "metadata": {},
   "source": [
    "Huffman Block Coding\n",
    "--------------------\n",
    "A Huffman coder is inefficient because it can distribute only an integer\n",
    "number of bit per symbol. In particular, distribution where one of the\n",
    "symbol has a large probability are not well coded using a Huffman code.\n",
    "This can be aleviated by replacing the set of $m$ symbols by $m^q$\n",
    "symbols obtained by packing the symbols by blocks of $q$ (here we use $m=2$ for a binary alphabet). This breaks\n",
    "symbols with large probability into many symbols with smaller proablity,\n",
    "thus approaching the Shannon entropy bound.\n",
    "\n",
    "\n",
    "Generate a binary vector with a high probability of having 1, so that the\n",
    "Huffman code is not very efficient (far from Shanon bound).\n",
    "\n",
    "Proability of having 0."
   ]
  },
  {
   "cell_type": "code",
   "execution_count": 23,
   "metadata": {
    "collapsed": true
   },
   "outputs": [],
   "source": [
    "t = .12;"
   ]
  },
  {
   "cell_type": "markdown",
   "metadata": {},
   "source": [
    "Probability distriution."
   ]
  },
  {
   "cell_type": "code",
   "execution_count": 24,
   "metadata": {
    "collapsed": true
   },
   "outputs": [],
   "source": [
    "h = [t, 1-t];"
   ]
  },
  {
   "cell_type": "markdown",
   "metadata": {},
   "source": [
    "Generate signal."
   ]
  },
  {
   "cell_type": "code",
   "execution_count": 25,
   "metadata": {
    "collapsed": true
   },
   "outputs": [],
   "source": [
    "n = 4096*2\n",
    "x = (rand(n) .> t) + 1;"
   ]
  },
  {
   "cell_type": "markdown",
   "metadata": {},
   "source": [
    "For block of length $q=3$, create a new vector by coding each block\n",
    "with an integer in $\\{1,...,m^q=2^3\\}$. The new length of the vector is\n",
    "$n_1/q$ where $n_1=\\lceil n/q\\rceil q$.\n",
    "\n",
    "Block size."
   ]
  },
  {
   "cell_type": "code",
   "execution_count": 26,
   "metadata": {
    "collapsed": true
   },
   "outputs": [],
   "source": [
    "q = 3;"
   ]
  },
  {
   "cell_type": "markdown",
   "metadata": {},
   "source": [
    "Maximum token value."
   ]
  },
  {
   "cell_type": "code",
   "execution_count": 27,
   "metadata": {
    "collapsed": true
   },
   "outputs": [],
   "source": [
    "m = 2;"
   ]
  },
  {
   "cell_type": "markdown",
   "metadata": {},
   "source": [
    "New size."
   ]
  },
  {
   "cell_type": "code",
   "execution_count": 28,
   "metadata": {
    "collapsed": true
   },
   "outputs": [],
   "source": [
    "n1 = Int(ceil(n/q)*q);"
   ]
  },
  {
   "cell_type": "markdown",
   "metadata": {},
   "source": [
    "New vector."
   ]
  },
  {
   "cell_type": "code",
   "execution_count": 29,
   "metadata": {
    "collapsed": true
   },
   "outputs": [],
   "source": [
    "x1 = zeros(n1)\n",
    "x1[1:length(x)] = x\n",
    "x1[length(x)+1:end] = 1\n",
    "x1 = x1 - 1\n",
    "x2 = []\n",
    "\n",
    "mult = [m^j for j in 0:q-1]\n",
    "for i in 1:q:n1-1\n",
    "    append!(x2,sum(x1[i:i+q-1].*mult)+1)\n",
    "end"
   ]
  },
  {
   "cell_type": "code",
   "execution_count": 30,
   "metadata": {
    "collapsed": true
   },
   "outputs": [],
   "source": [
    "H = h\n",
    "for i in 1:q-1\n",
    "    Hold = H\n",
    "    H = []\n",
    "    for j in 1:length(h)\n",
    "        append!(H,[e*h[j] for e in Hold])\n",
    "    end\n",
    "end"
   ]
  },
  {
   "cell_type": "markdown",
   "metadata": {},
   "source": [
    "A simpler way to compute this block-histogram is to use the Kronecker product."
   ]
  },
  {
   "cell_type": "code",
   "execution_count": 31,
   "metadata": {
    "collapsed": true
   },
   "outputs": [],
   "source": [
    "H = h\n",
    "for i in 1:q-1\n",
    "    H = kron(H, h)\n",
    "end"
   ]
  },
  {
   "cell_type": "markdown",
   "metadata": {},
   "source": [
    "__Exercise 2__\n",
    "\n",
    "For various values of block size $k$, Perform the Huffman coding and compute the length of the code.\n",
    "Compare with the entropy lower bound."
   ]
  },
  {
   "cell_type": "code",
   "execution_count": 32,
   "metadata": {},
   "outputs": [
    {
     "name": "stdout",
     "output_type": "stream",
     "text": [
      "Entropy bound = 0.5293608652873644\n",
      "---\n",
      "Huffman(block size = 1) = 1.0\n",
      "Huffman(block size = 2) = 0.676025390625\n",
      "Huffman(block size = 3) = 0.5728759765625\n"
     ]
    },
    {
     "data": {
      "image/png": "[encoded data removed]",
      "text/plain": [
       "PyPlot.Figure(PyObject <matplotlib.figure.Figure object at 0x31cc9c250>)"
      ]
     },
     "metadata": {},
     "output_type": "display_data"
    },
    {
     "name": "stdout",
     "output_type": "stream",
     "text": [
      "Huffman(block size = 4) = 0.54638671875\n",
      "Huffman(block size = 5) = 0.5390625\n",
      "Huffman(block size = 6) = 0.5335693359375\n",
      "Huffman(block size = 7) = 0.5469970703125\n",
      "Huffman(block size = 8) = 0.5404052734375\n",
      "Huffman(block size = 9) = 0.5408935546875\n",
      "Huffman(block size = 10) = 0.5372314453125\n"
     ]
    }
   ],
   "source": [
    "include(\"NtSolutions/coding_2_entropic/exo2.jl\");"
   ]
  },
  {
   "cell_type": "code",
   "execution_count": 33,
   "metadata": {
    "collapsed": true
   },
   "outputs": [],
   "source": [
    "## Insert your code here."
   ]
  },
  {
   "cell_type": "markdown",
   "metadata": {},
   "source": [
    "<script>\n",
    "  $(document).ready(function(){\n",
    "      $('div.prompt').hide();\n",
    "  });\n",
    "</script>"
   ]
  }
 ],
 "metadata": {
  "anaconda-cloud": {},
  "kernelspec": {
   "display_name": "Julia 0.5.0",
   "language": "julia",
   "name": "julia-0.5"
  },
  "language_info": {
   "file_extension": ".jl",
   "mimetype": "application/julia",
   "name": "julia",
   "version": "0.5.0"
  }
 },
 "nbformat": 4,
 "nbformat_minor": 1
}
